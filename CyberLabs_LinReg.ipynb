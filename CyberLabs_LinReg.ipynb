{
  "nbformat": 4,
  "nbformat_minor": 0,
  "metadata": {
    "colab": {
      "name": "CyberLabs_LinReg.ipynb",
      "provenance": [],
      "authorship_tag": "ABX9TyPJeW28tERl/rC7m0Qtls2f"
    },
    "kernelspec": {
      "name": "python3",
      "display_name": "Python 3"
    },
    "language_info": {
      "name": "python"
    }
  },
  "cells": [
    {
      "cell_type": "code",
      "execution_count": 1,
      "metadata": {
        "id": "AL5xOKECwme4"
      },
      "outputs": [],
      "source": [
        "#Loading libraries\n",
        "import matplotlib.pyplot as plt\n",
        "%matplotlib inline\n",
        "import numpy as np\n",
        "import pandas as pd"
      ]
    },
    {
      "cell_type": "code",
      "source": [
        "from google.colab import drive\n",
        "drive.mount('/content/drive')"
      ],
      "metadata": {
        "colab": {
          "base_uri": "https://localhost:8080/"
        },
        "id": "K9FU3-Y0wwHV",
        "outputId": "2ae1dcea-afee-42ff-8660-9851bd245ef3"
      },
      "execution_count": 3,
      "outputs": [
        {
          "output_type": "stream",
          "name": "stdout",
          "text": [
            "Mounted at /content/drive\n"
          ]
        }
      ]
    },
    {
      "cell_type": "code",
      "source": [
        "# Loading the Data\n",
        "train = pd.read_csv(\"/content/drive/MyDrive/Linear_train.csv\")\n",
        "test = pd.read_csv(\"/content/drive/MyDrive/Linear_test.csv\")"
      ],
      "metadata": {
        "id": "j6hC9ZXJw8cf"
      },
      "execution_count": 5,
      "outputs": []
    },
    {
      "cell_type": "code",
      "source": [
        "train = (train - np.min(train)) / (np.max(train) - np.min(train))\n",
        "test = (test - np.min(test)) / (np.max(test) - np.min(test))"
      ],
      "metadata": {
        "id": "HitT-YZcxUcP"
      },
      "execution_count": 6,
      "outputs": []
    },
    {
      "cell_type": "code",
      "source": [
        "X = train.values[:, :-1]\n",
        "Y = train.values[:, -1].reshape(train.values.shape[0], 1)\n",
        "\n",
        "X_test = test.values[:, :-1]\n",
        "Y_test = test.values[:, -1].reshape(test.values.shape[0], 1)"
      ],
      "metadata": {
        "id": "y8k1pFFIxekx"
      },
      "execution_count": 7,
      "outputs": []
    },
    {
      "cell_type": "code",
      "source": [
        "class LinReg:\n",
        "  def train(X, Y, learning_rate, iteration):\n",
        "    m = Y.size\n",
        "    theta = np.zeros((21,1))\n",
        "    cost_list = []\n",
        "    \n",
        "    for i in range(iteration):\n",
        "        y_pred = np.dot(X, theta)\n",
        "        cost = (1/(2*m))*np.sum(np.square(y_pred - Y))\n",
        "        \n",
        "        d_theta = (1/m)*np.dot(X.T, y_pred - Y)\n",
        "        theta = theta - learning_rate*d_theta\n",
        "        \n",
        "        cost_list.append(cost)\n",
        "        \n",
        "        if(i%(iteration/10) == 0):\n",
        "            print('Cost is:',cost)\n",
        "            \n",
        "    return theta, cost_list\n",
        "\n",
        "  def costPlot(cost, iters):\n",
        "        plt.plot(np.arange(iters), cost, '-b', LineWidth=2)\n",
        "        plt.xlabel('Number of iterations')\n",
        "        plt.ylabel('Cost J')\n",
        "        plt.show()\n",
        "\n",
        "  def predict(X, w):\n",
        "        return X.dot(w) \n",
        "\n",
        "  def rmse(predictions, targets):\n",
        "      return np.sqrt(((predictions - targets) ** 2).mean())"
      ],
      "metadata": {
        "id": "HUmUCMTgxi-2"
      },
      "execution_count": 8,
      "outputs": []
    },
    {
      "cell_type": "code",
      "source": [
        "theta, cost_list = LinReg.train(X, Y, 0.3, 1000)"
      ],
      "metadata": {
        "colab": {
          "base_uri": "https://localhost:8080/"
        },
        "id": "-xI043m0yLyp",
        "outputId": "df2f9923-60c3-4ebd-b41d-b1dda7beba3a"
      },
      "execution_count": 11,
      "outputs": [
        {
          "output_type": "stream",
          "name": "stdout",
          "text": [
            "Cost is: 0.13368343512225278\n",
            "Cost is: 0.00019538079957751646\n",
            "Cost is: 0.00013529880176499774\n",
            "Cost is: 0.0001348184935925967\n",
            "Cost is: 0.00013481445680872778\n",
            "Cost is: 0.00013481442137932252\n",
            "Cost is: 0.0001348144210573663\n",
            "Cost is: 0.00013481442105436244\n",
            "Cost is: 0.00013481442105433384\n",
            "Cost is: 0.0001348144210543336\n"
          ]
        }
      ]
    },
    {
      "cell_type": "code",
      "source": [
        "LinReg.costPlot(cost_list,1000)"
      ],
      "metadata": {
        "colab": {
          "base_uri": "https://localhost:8080/",
          "height": 283
        },
        "id": "DyYrK92pzFFx",
        "outputId": "30f9aad2-97e8-4487-ad9a-0c8a581a59b0"
      },
      "execution_count": 13,
      "outputs": [
        {
          "output_type": "display_data",
          "data": {
            "text/plain": [
              "<Figure size 432x288 with 1 Axes>"
            ],
            "image/png": "[encoded data removed]"
          },
          "metadata": {
            "needs_background": "light"
          }
        }
      ]
    },
    {
      "cell_type": "code",
      "source": [
        "y_pred = LinReg.predict(X_test,theta)\n",
        "rmse = LinReg.rmse(y_pred, Y_test)\n",
        "print('RMSE error is',rmse)"
      ],
      "metadata": {
        "colab": {
          "base_uri": "https://localhost:8080/"
        },
        "id": "WpnQrEaHyX0a",
        "outputId": "3a65d79f-4106-4049-fdd3-1dfe5b9321ec"
      },
      "execution_count": 12,
      "outputs": [
        {
          "output_type": "stream",
          "name": "stdout",
          "text": [
            "RMSE error is 0.018603701832905543\n"
          ]
        }
      ]
    },
    {
      "cell_type": "code",
      "source": [
        ""
      ],
      "metadata": {
        "id": "rmszvAIjy_o5"
      },
      "execution_count": null,
      "outputs": []
    }
  ]
}