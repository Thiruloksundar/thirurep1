{
  "nbformat": 4,
  "nbformat_minor": 0,
  "metadata": {
    "colab": {
      "name": "CyberLabs_NN_PolyReg.ipynb",
      "provenance": [],
      "mount_file_id": "17kXGBimBu21P3HSduGGlTF4E4Kpuiy4L",
      "authorship_tag": "ABX9TyOfU7SDwsBSrNNTkYWBaoOn"
    },
    "kernelspec": {
      "name": "python3",
      "display_name": "Python 3"
    },
    "language_info": {
      "name": "python"
    }
  },
  "cells": [
    {
      "cell_type": "code",
      "execution_count": 1,
      "metadata": {
        "id": "PvAvDL8Qqbpc"
      },
      "outputs": [],
      "source": [
        "import numpy as np \n",
        "import pandas as pd \n",
        "from matplotlib import pyplot as plt\n",
        "%matplotlib inline\n",
        "import warnings\n",
        "warnings.filterwarnings(\"ignore\")"
      ]
    },
    {
      "cell_type": "code",
      "source": [
        "train_df = pd.read_csv(\"/content/drive/MyDrive/Polynomial_train.csv\")\n",
        "test_df = pd.read_csv(\"/content/drive/MyDrive/Polynomial_test.csv\")"
      ],
      "metadata": {
        "id": "sK4hHHSyqzJR"
      },
      "execution_count": 2,
      "outputs": []
    },
    {
      "cell_type": "code",
      "source": [
        "train_df.head()"
      ],
      "metadata": {
        "colab": {
          "base_uri": "https://localhost:8080/",
          "height": 206
        },
        "id": "GKm_w9YlrFbV",
        "outputId": "ab02c2c4-6e14-4d46-dbd5-581cc59e1af7"
      },
      "execution_count": 3,
      "outputs": [
        {
          "output_type": "execute_result",
          "data": {
            "text/plain": [
              "   Unnamed: 0         X         Y         Z       label\n",
              "0           0  0.643715 -9.866550 -5.836019  307.972927\n",
              "1           1 -1.366446 -3.761945 -8.756162  136.398375\n",
              "2           2 -4.090270 -1.836218 -1.846066 -310.724813\n",
              "3           3 -8.730478 -1.923651  3.892972    1.755447\n",
              "4           4  5.367169  0.358357  6.703989 -343.582590"
            ],
            "text/html": [
              "\n",
              "  <div id=\"df-cb021c27-1c9f-4084-8f82-2c9be309e7c1\">\n",
              "    <div class=\"colab-df-container\">\n",
              "      <div>\n",
              "<style scoped>\n",
              "    .dataframe tbody tr th:only-of-type {\n",
              "        vertical-align: middle;\n",
              "    }\n",
              "\n",
              "    .dataframe tbody tr th {\n",
              "        vertical-align: top;\n",
              "    }\n",
              "\n",
              "    .dataframe thead th {\n",
              "        text-align: right;\n",
              "    }\n",
              "</style>\n",
              "<table border=\"1\" class=\"dataframe\">\n",
              "  <thead>\n",
              "    <tr style=\"text-align: right;\">\n",
              "      <th></th>\n",
              "      <th>Unnamed: 0</th>\n",
              "      <th>X</th>\n",
              "      <th>Y</th>\n",
              "      <th>Z</th>\n",
              "      <th>label</th>\n",
              "    </tr>\n",
              "  </thead>\n",
              "  <tbody>\n",
              "    <tr>\n",
              "      <th>0</th>\n",
              "      <td>0</td>\n",
              "      <td>0.643715</td>\n",
              "      <td>-9.866550</td>\n",
              "      <td>-5.836019</td>\n",
              "      <td>307.972927</td>\n",
              "    </tr>\n",
              "    <tr>\n",
              "      <th>1</th>\n",
              "      <td>1</td>\n",
              "      <td>-1.366446</td>\n",
              "      <td>-3.761945</td>\n",
              "      <td>-8.756162</td>\n",
              "      <td>136.398375</td>\n",
              "    </tr>\n",
              "    <tr>\n",
              "      <th>2</th>\n",
              "      <td>2</td>\n",
              "      <td>-4.090270</td>\n",
              "      <td>-1.836218</td>\n",
              "      <td>-1.846066</td>\n",
              "      <td>-310.724813</td>\n",
              "    </tr>\n",
              "    <tr>\n",
              "      <th>3</th>\n",
              "      <td>3</td>\n",
              "      <td>-8.730478</td>\n",
              "      <td>-1.923651</td>\n",
              "      <td>3.892972</td>\n",
              "      <td>1.755447</td>\n",
              "    </tr>\n",
              "    <tr>\n",
              "      <th>4</th>\n",
              "      <td>4</td>\n",
              "      <td>5.367169</td>\n",
              "      <td>0.358357</td>\n",
              "      <td>6.703989</td>\n",
              "      <td>-343.582590</td>\n",
              "    </tr>\n",
              "  </tbody>\n",
              "</table>\n",
              "</div>\n",
              "      <button class=\"colab-df-convert\" onclick=\"convertToInteractive('df-cb021c27-1c9f-4084-8f82-2c9be309e7c1')\"\n",
              "              title=\"Convert this dataframe to an interactive table.\"\n",
              "              style=\"display:none;\">\n",
              "        \n",
              "  <svg xmlns=\"http://www.w3.org/2000/svg\" height=\"24px\"viewBox=\"0 0 24 24\"\n",
              "       width=\"24px\">\n",
              "    <path d=\"M0 0h24v24H0V0z\" fill=\"none\"/>\n",
              "    <path d=\"M18.56 5.44l.94 2.06.94-2.06 2.06-.94-2.06-.94-.94-2.06-.94 2.06-2.06.94zm-11 1L8.5 8.5l.94-2.06 2.06-.94-2.06-.94L8.5 2.5l-.94 2.06-2.06.94zm10 10l.94 2.06.94-2.06 2.06-.94-2.06-.94-.94-2.06-.94 2.06-2.06.94z\"/><path d=\"M17.41 7.96l-1.37-1.37c-.4-.4-.92-.59-1.43-.59-.52 0-1.04.2-1.43.59L10.3 9.45l-7.72 7.72c-.78.78-.78 2.05 0 2.83L4 21.41c.39.39.9.59 1.41.59.51 0 1.02-.2 1.41-.59l7.78-7.78 2.81-2.81c.8-.78.8-2.07 0-2.86zM5.41 20L4 18.59l7.72-7.72 1.47 1.35L5.41 20z\"/>\n",
              "  </svg>\n",
              "      </button>\n",
              "      \n",
              "  <style>\n",
              "    .colab-df-container {\n",
              "      display:flex;\n",
              "      flex-wrap:wrap;\n",
              "      gap: 12px;\n",
              "    }\n",
              "\n",
              "    .colab-df-convert {\n",
              "      background-color: #E8F0FE;\n",
              "      border: none;\n",
              "      border-radius: 50%;\n",
              "      cursor: pointer;\n",
              "      display: none;\n",
              "      fill: #1967D2;\n",
              "      height: 32px;\n",
              "      padding: 0 0 0 0;\n",
              "      width: 32px;\n",
              "    }\n",
              "\n",
              "    .colab-df-convert:hover {\n",
              "      background-color: #E2EBFA;\n",
              "      box-shadow: 0px 1px 2px rgba(60, 64, 67, 0.3), 0px 1px 3px 1px rgba(60, 64, 67, 0.15);\n",
              "      fill: #174EA6;\n",
              "    }\n",
              "\n",
              "    [theme=dark] .colab-df-convert {\n",
              "      background-color: #3B4455;\n",
              "      fill: #D2E3FC;\n",
              "    }\n",
              "\n",
              "    [theme=dark] .colab-df-convert:hover {\n",
              "      background-color: #434B5C;\n",
              "      box-shadow: 0px 1px 3px 1px rgba(0, 0, 0, 0.15);\n",
              "      filter: drop-shadow(0px 1px 2px rgba(0, 0, 0, 0.3));\n",
              "      fill: #FFFFFF;\n",
              "    }\n",
              "  </style>\n",
              "\n",
              "      <script>\n",
              "        const buttonEl =\n",
              "          document.querySelector('#df-cb021c27-1c9f-4084-8f82-2c9be309e7c1 button.colab-df-convert');\n",
              "        buttonEl.style.display =\n",
              "          google.colab.kernel.accessAllowed ? 'block' : 'none';\n",
              "\n",
              "        async function convertToInteractive(key) {\n",
              "          const element = document.querySelector('#df-cb021c27-1c9f-4084-8f82-2c9be309e7c1');\n",
              "          const dataTable =\n",
              "            await google.colab.kernel.invokeFunction('convertToInteractive',\n",
              "                                                     [key], {});\n",
              "          if (!dataTable) return;\n",
              "\n",
              "          const docLinkHtml = 'Like what you see? Visit the ' +\n",
              "            '<a target=\"_blank\" href=https://colab.research.google.com/notebooks/data_table.ipynb>data table notebook</a>'\n",
              "            + ' to learn more about interactive tables.';\n",
              "          element.innerHTML = '';\n",
              "          dataTable['output_type'] = 'display_data';\n",
              "          await google.colab.output.renderOutput(dataTable, element);\n",
              "          const docLink = document.createElement('div');\n",
              "          docLink.innerHTML = docLinkHtml;\n",
              "          element.appendChild(docLink);\n",
              "        }\n",
              "      </script>\n",
              "    </div>\n",
              "  </div>\n",
              "  "
            ]
          },
          "metadata": {},
          "execution_count": 3
        }
      ]
    },
    {
      "cell_type": "code",
      "source": [
        "train_df = (train_df - train_df.mean())/train_df.std()\n",
        "test_df = (test_df - test_df.mean())/test_df.std()"
      ],
      "metadata": {
        "id": "Vjdd0GYgq6El"
      },
      "execution_count": 4,
      "outputs": []
    },
    {
      "cell_type": "code",
      "source": [
        "y_train = train_df['label']\n",
        "y_test = test_df['label']\n",
        "X_train = train_df.drop(['Unnamed: 0','label'],axis=1)\n",
        "X_test = test_df.drop(['Unnamed: 0','label'],axis=1)"
      ],
      "metadata": {
        "id": "LaOpPWm-rhCb"
      },
      "execution_count": 5,
      "outputs": []
    },
    {
      "cell_type": "code",
      "source": [
        "class NN:\n",
        "  def sigmoid(input):    \n",
        "    output = 1 / (1 + np.exp(-input))\n",
        "    return output\n",
        "\n",
        "  def sigmoid_derivative(input):\n",
        "    return NN.sigmoid(input) * (1.0 - NN.sigmoid(input))\n",
        "  \n",
        "  def train(features,label,weights,bias,learning_rate,epochs):                                         \n",
        "    for epoch in range(epochs):       \n",
        "        dot_prod = np.dot(features, weights) + bias\n",
        "        # using sigmoid\n",
        "        preds = NN.sigmoid(dot_prod)\n",
        "        # Error\n",
        "        errors = preds - label                \n",
        "        deriva_cost_funct = errors\n",
        "        deriva_preds = NN.sigmoid_derivative(preds)\n",
        "        deriva_product = deriva_cost_funct * deriva_preds       \n",
        "        #update the weights\n",
        "        weights = weights -  np.dot(features.T, deriva_product) * learning_rate        \n",
        "        loss = errors.sum()\n",
        "        #print(loss)\n",
        "    for i in deriva_product:\n",
        "        bias = bias -  i * learning_rate\n",
        "    print(np.sqrt(((errors) ** 2).mean()))\n",
        "    \n",
        "    return weights,bias\n",
        "\n",
        "  def test(features,label,weights,bias):\n",
        "    dot_prod = np.dot(features, weights) + bias\n",
        "    # using sigmoid\n",
        "    preds = NN.sigmoid(dot_prod)\n",
        "    # Error\n",
        "    errors = preds - label\n",
        "    loss = errors.sum()\n",
        "    #print(loss)\n",
        "    print(np.sqrt(((errors) ** 2).mean()))"
      ],
      "metadata": {
        "id": "5i7WNlWHsaw3"
      },
      "execution_count": 6,
      "outputs": []
    },
    {
      "cell_type": "code",
      "source": [
        "label = y_train.values.reshape(y_train.shape[0],1)\n",
        "weights = np.random.rand(3,1)\n",
        "bias = np.random.rand(1)\n",
        "learning_rate = 0.3\n",
        "epochs = 1000"
      ],
      "metadata": {
        "id": "IYBXXeSjuNcJ"
      },
      "execution_count": 7,
      "outputs": []
    },
    {
      "cell_type": "code",
      "source": [
        "w,b = NN.train(np.array(X_train),label,weights,bias,learning_rate,epochs)"
      ],
      "metadata": {
        "colab": {
          "base_uri": "https://localhost:8080/"
        },
        "id": "k1SO5N7fudjo",
        "outputId": "0d0846cb-21ad-4366-fde9-a7199941a3de"
      },
      "execution_count": 8,
      "outputs": [
        {
          "output_type": "stream",
          "name": "stdout",
          "text": [
            "1.2200589313323242\n"
          ]
        }
      ]
    },
    {
      "cell_type": "code",
      "source": [
        "lbl = y_test.values.reshape(y_test.shape[0],1)\n",
        "NN.test(np.array(X_test),lbl,w,b)"
      ],
      "metadata": {
        "colab": {
          "base_uri": "https://localhost:8080/"
        },
        "id": "_YyIwd2WugYc",
        "outputId": "0fb35c8a-31f1-4e54-8154-f7cd46ec2028"
      },
      "execution_count": 9,
      "outputs": [
        {
          "output_type": "stream",
          "name": "stdout",
          "text": [
            "0.9999499987499368\n"
          ]
        }
      ]
    },
    {
      "cell_type": "code",
      "source": [
        ""
      ],
      "metadata": {
        "id": "yxr-GmqCuxm7"
      },
      "execution_count": 9,
      "outputs": []
    }
  ]
}