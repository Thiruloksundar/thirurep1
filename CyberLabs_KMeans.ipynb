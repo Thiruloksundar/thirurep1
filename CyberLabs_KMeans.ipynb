{
  "nbformat": 4,
  "nbformat_minor": 0,
  "metadata": {
    "colab": {
      "name": "CyberLabs_KMeans.ipynb",
      "provenance": [],
      "mount_file_id": "1KneUYalE9lD8qV1ZyOtFfxEUNdYsk0r7",
      "authorship_tag": "ABX9TyM6Kq5IIVZUoDjBM1n7D3q0"
    },
    "kernelspec": {
      "name": "python3",
      "display_name": "Python 3"
    },
    "language_info": {
      "name": "python"
    }
  },
  "cells": [
    {
      "cell_type": "code",
      "execution_count": null,
      "metadata": {
        "id": "i9XXnFjKGh52"
      },
      "outputs": [],
      "source": [
        "import numpy as np\n",
        "import pandas as pd\n",
        "import matplotlib.pyplot as plt\n",
        "%matplotlib inline"
      ]
    },
    {
      "cell_type": "code",
      "source": [
        "from google.colab import drive\n",
        "drive.mount('/content/drive')"
      ],
      "metadata": {
        "colab": {
          "base_uri": "https://localhost:8080/"
        },
        "id": "UmetFjfvL_Wn",
        "outputId": "4ce0e9b4-52c0-477f-a959-5845b9bfda04"
      },
      "execution_count": null,
      "outputs": [
        {
          "output_type": "stream",
          "name": "stdout",
          "text": [
            "Drive already mounted at /content/drive; to attempt to forcibly remount, call drive.mount(\"/content/drive\", force_remount=True).\n"
          ]
        }
      ]
    },
    {
      "cell_type": "code",
      "source": [
        "train_df = pd.read_csv('/content/drive/MyDrive/emnist-letters-train.csv')\n",
        "test_df = pd.read_csv('/content/drive/MyDrive/emnist-letters-test.csv')"
      ],
      "metadata": {
        "id": "YaPzmy0RHNOl"
      },
      "execution_count": null,
      "outputs": []
    },
    {
      "cell_type": "code",
      "source": [
        "y_train = train_df[\"23\"]"
      ],
      "metadata": {
        "id": "h0Y3VmOeHatH"
      },
      "execution_count": null,
      "outputs": []
    },
    {
      "cell_type": "code",
      "source": [
        "X_train = train_df.drop(train_df.columns[0], axis=1)"
      ],
      "metadata": {
        "id": "Q4AXeGFPJM-A"
      },
      "execution_count": null,
      "outputs": []
    },
    {
      "cell_type": "code",
      "source": [
        "y_test = test_df[\"1\"]"
      ],
      "metadata": {
        "id": "t_6DLTlBJYng"
      },
      "execution_count": null,
      "outputs": []
    },
    {
      "cell_type": "code",
      "source": [
        "X_test = test_df.drop(test_df.columns[0], axis=1)"
      ],
      "metadata": {
        "id": "43xviNwWJbgv"
      },
      "execution_count": null,
      "outputs": []
    },
    {
      "cell_type": "code",
      "source": [
        "class KMeans:\n",
        "\n",
        "    def __init__(self, k=2, tol=0.001, max_iter=300):\n",
        "        self.k = k\n",
        "        self.tol = tol\n",
        "        self.max_iter = max_iter\n",
        "\n",
        "    def fit(self,data):\n",
        "\n",
        "        self.centroids = {}\n",
        "        for i in range(self.k):\n",
        "            self.centroids[i] = data[i]\n",
        "        for i in range(self.max_iter):\n",
        "            self.classifications = {}\n",
        "            for i in range(self.k):\n",
        "                self.classifications[i] = []\n",
        "\n",
        "            for featureset in data:\n",
        "                distances = [np.linalg.norm(featureset-self.centroids[centroid]) for centroid in self.centroids]\n",
        "                classification = distances.index(min(distances))\n",
        "                self.classifications[classification].append(featureset)\n",
        "\n",
        "            prev_centroids = dict(self.centroids)\n",
        "\n",
        "            for classification in self.classifications:\n",
        "                self.centroids[classification] = np.average(self.classifications[classification],axis=0)\n",
        "\n",
        "            optimized = True\n",
        "\n",
        "            for c in self.centroids:\n",
        "                original_centroid = prev_centroids[c]\n",
        "                current_centroid = self.centroids[c]\n",
        "                if np.sum((current_centroid-original_centroid)/original_centroid*100.0) > self.tol:\n",
        "                    print(np.sum((current_centroid-original_centroid)/original_centroid*100.0))\n",
        "                    optimized = False\n",
        "\n",
        "            if optimized:\n",
        "                break\n",
        "\n",
        "    def predict(self,data):\n",
        "        distances = [np.linalg.norm(data-self.centroids[centroid]) for centroid in self.centroids]\n",
        "        classification = distances.index(min(distances))\n",
        "        return classification \n",
        "\n",
        "    "
      ],
      "metadata": {
        "id": "Y3XP6d2OLURs"
      },
      "execution_count": null,
      "outputs": []
    },
    {
      "cell_type": "code",
      "source": [
        "X = np.array(X_train/255.0)\n",
        "X[X==0]=1\n",
        "y = np.array(y_train)\n",
        "X_t = np.array(X_test/255.0)\n",
        "X_t[X_t==0]==1\n",
        "y_t = np.array(y_test)"
      ],
      "metadata": {
        "id": "IDnDSu6lJ4tI"
      },
      "execution_count": null,
      "outputs": []
    },
    {
      "cell_type": "code",
      "source": [
        "model = KMeans()\n",
        "model.fit(X)"
      ],
      "metadata": {
        "colab": {
          "base_uri": "https://localhost:8080/"
        },
        "id": "GfM-DB3dJ6Fo",
        "outputId": "47f837f1-8d0c-4baa-b4a7-d947a149f0af"
      },
      "execution_count": null,
      "outputs": [
        {
          "output_type": "stream",
          "name": "stdout",
          "text": [
            "366564.36134420225\n",
            "185896.07361262894\n",
            "976.0631170199995\n",
            "450.85281279684085\n",
            "722.7517735722294\n",
            "315.45381436771476\n",
            "565.1270513801801\n",
            "272.28009611232386\n",
            "484.4708997955159\n",
            "231.3690641246829\n",
            "437.24019399748784\n",
            "181.4785532739334\n",
            "409.4858983881069\n",
            "133.71590416476295\n",
            "389.64133624523436\n",
            "80.30676790729272\n",
            "350.74423394284474\n",
            "26.339814770163436\n",
            "271.69749338939016\n",
            "186.35007401550362\n",
            "119.34822513651308\n",
            "70.4548085392923\n",
            "43.34251842860368\n",
            "24.347653735235184\n",
            "14.148816942984482\n",
            "9.9450078031186\n",
            "5.022447844200903\n",
            "2.8326197222116853\n",
            "1.901473876415516\n",
            "2.4100717245791534\n",
            "1.4477328803562894\n",
            "2.0752399079948334\n",
            "0.4574484220835218\n",
            "0.15986461267166577\n",
            "0.2361902330123199\n",
            "0.16845840010203386\n",
            "0.1298469971080065\n",
            "0.41857052118505855\n",
            "0.2344078075995588\n",
            "0.16451908818194116\n",
            "0.2675316332848465\n"
          ]
        }
      ]
    },
    {
      "cell_type": "code",
      "source": [
        "model.predict(X_t)"
      ],
      "metadata": {
        "id": "qJycvTjfKlGe",
        "colab": {
          "base_uri": "https://localhost:8080/"
        },
        "outputId": "11e42653-959f-403b-a060-1a018f920ca3"
      },
      "execution_count": null,
      "outputs": [
        {
          "output_type": "execute_result",
          "data": {
            "text/plain": [
              "0"
            ]
          },
          "metadata": {},
          "execution_count": 11
        }
      ]
    }
  ]
}