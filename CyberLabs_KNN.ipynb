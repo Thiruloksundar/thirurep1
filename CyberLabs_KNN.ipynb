{
  "nbformat": 4,
  "nbformat_minor": 0,
  "metadata": {
    "colab": {
      "name": "CyberLabs_KNN.ipynb",
      "provenance": [],
      "authorship_tag": "ABX9TyMWgiDd5N5wEdL+OnaPcJb2"
    },
    "kernelspec": {
      "name": "python3",
      "display_name": "Python 3"
    },
    "language_info": {
      "name": "python"
    }
  },
  "cells": [
    {
      "cell_type": "code",
      "source": [
        "# Importing Libraries\n",
        "import numpy as np \n",
        "import pandas as pd \n",
        "from matplotlib import pyplot as plt\n",
        "%matplotlib inline"
      ],
      "metadata": {
        "id": "Ywp-DTvbd-KP"
      },
      "execution_count": null,
      "outputs": []
    },
    {
      "cell_type": "code",
      "source": [
        "# Loading the Data\n",
        "train_df = pd.read_csv(\"emnist-letters-train.csv\")\n",
        "test_df = pd.read_csv(\"emnist-letters-test.csv\")"
      ],
      "metadata": {
        "id": "fAcABqGseEFk"
      },
      "execution_count": null,
      "outputs": []
    },
    {
      "cell_type": "code",
      "source": [
        "y_train = train_df[\"23\"]"
      ],
      "metadata": {
        "id": "fGPJfzWKeEIS"
      },
      "execution_count": null,
      "outputs": []
    },
    {
      "cell_type": "code",
      "source": [
        "X_train = train_df.drop(train_df.columns[0], axis=1)"
      ],
      "metadata": {
        "id": "xiW5Fj8-eEN3"
      },
      "execution_count": null,
      "outputs": []
    },
    {
      "cell_type": "code",
      "source": [
        "y_test = test_df[\"1\"]"
      ],
      "metadata": {
        "id": "jVYEUyEgfE6n"
      },
      "execution_count": null,
      "outputs": []
    },
    {
      "cell_type": "code",
      "source": [
        "X_test = test_df.drop(test_df.columns[0], axis=1)"
      ],
      "metadata": {
        "id": "f9p2lN1Yfx46"
      },
      "execution_count": null,
      "outputs": []
    },
    {
      "cell_type": "code",
      "source": [
        "z = np.array(X_train).reshape(X_train.shape[0],28,28)\n",
        "plt.imshow(z[55,:,:],cmap='gray')"
      ],
      "metadata": {
        "colab": {
          "base_uri": "https://localhost:8080/",
          "height": 282
        },
        "id": "KsMbHyhXf3IP",
        "outputId": "305b8ad9-a648-465e-c826-54ce0a331c2a"
      },
      "execution_count": null,
      "outputs": [
        {
          "output_type": "execute_result",
          "data": {
            "text/plain": [
              "<matplotlib.image.AxesImage at 0x7f61c7bf1810>"
            ]
          },
          "metadata": {},
          "execution_count": 7
        },
        {
          "output_type": "display_data",
          "data": {
            "text/plain": [
              "<Figure size 432x288 with 1 Axes>"
            ],
            "image/png": "[encoded data removed]"
          },
          "metadata": {
            "needs_background": "light"
          }
        }
      ]
    },
    {
      "cell_type": "code",
      "source": [
        "class KNearestNeighbor:\n",
        "    def __init__(self, k):\n",
        "        self.k = k\n",
        "        self.eps = 1e-8\n",
        "\n",
        "    def train(self, X, y):\n",
        "        self.X_train = X\n",
        "        self.y_train = y\n",
        "\n",
        "    def predict(self, X_test, num_loops=0):\n",
        "        if num_loops == 0:\n",
        "            distances = self.compute_distance_vectorized(X_test)\n",
        "        return self.predict_labels(distances)\n",
        "\n",
        "    def compute_distance_two_loops(self, X_test):\n",
        "        num_test = X_test.shape[0]\n",
        "        num_train = self.X_train.shape[0]\n",
        "        distances = np.zeros((num_test, num_train))\n",
        "\n",
        "        for i in range(num_test):\n",
        "            for j in range(num_train):\n",
        "                distances[i, j] = np.sqrt(self.eps + np.sum((X_test[i, :] - self.X_train[j, :]) ** 2))\n",
        "\n",
        "        return distances\n",
        "\n",
        "    def compute_distance_one_loop(self, X_test):\n",
        "        \n",
        "        num_test = X_test.shape[0]\n",
        "        num_train = self.X_train.shape[0]\n",
        "        distances = np.zeros((num_test, num_train))\n",
        "\n",
        "        for i in range(num_test):\n",
        "            distances[i, :] = np.sqrt(self.eps + np.sum((self.X_train - X_test[i, :]) ** 2, axis=1))\n",
        "\n",
        "        return distances\n",
        "\n",
        "    def compute_distance_vectorized(self, X_test):\n",
        "        \n",
        "        X_test_squared = np.sum(X_test ** 2, axis=1, keepdims=True)\n",
        "        X_train_squared = np.sum(self.X_train ** 2, axis=1, keepdims=True)\n",
        "        two_X_test_X_train = np.dot(X_test, self.X_train.T)\n",
        "\n",
        "        return np.sqrt(self.eps + X_test_squared - 2 * two_X_test_X_train + X_train_squared.T)\n",
        "\n",
        "    def predict_labels(self, distances):\n",
        "        num_test = distances.shape[0]\n",
        "        y_pred = np.zeros(num_test)\n",
        "\n",
        "        for i in range(num_test):\n",
        "            y_indices = np.argsort(distances[i, :])\n",
        "            k_closest_classes = self.y_train[y_indices[: self.k]].astype(int)\n",
        "            y_pred[i] = np.argmax(np.bincount(k_closest_classes))\n",
        "\n",
        "        return y_pred\n",
        " "
      ],
      "metadata": {
        "id": "XZefZiYvgEL8"
      },
      "execution_count": null,
      "outputs": []
    },
    {
      "cell_type": "code",
      "source": [
        "KNN = KNearestNeighbor(k=1)\n",
        "X = np.array(X_train)\n",
        "y = np.array(y_train)\n",
        "X_t = np.array(X_test)\n",
        "y_t = np.array(y_test)"
      ],
      "metadata": {
        "id": "JuePA7CRkTTO"
      },
      "execution_count": null,
      "outputs": []
    },
    {
      "cell_type": "code",
      "source": [
        "KNN.train(X,y)\n",
        "y_pred = KNN.predict(X_t, num_loops=0)\n",
        "print(f\"Accuracy: {sum(y_pred == y_t) / y_t.shape[0]}\") # Prediction Accuracy"
      ],
      "metadata": {
        "colab": {
          "base_uri": "https://localhost:8080/"
        },
        "id": "TMHejMTAk9vC",
        "outputId": "e68b8a37-77c0-4a96-9efb-8fe1c14bcfa0"
      },
      "execution_count": null,
      "outputs": [
        {
          "output_type": "stream",
          "name": "stdout",
          "text": [
            "Accuracy: 0.7737684978714778\n"
          ]
        }
      ]
    }
  ]
}