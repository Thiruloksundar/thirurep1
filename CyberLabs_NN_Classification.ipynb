{
  "nbformat": 4,
  "nbformat_minor": 0,
  "metadata": {
    "colab": {
      "name": "CyberLabs_NN_Classification.ipynb",
      "provenance": [],
      "mount_file_id": "1GVsEwVXU2PLZh_lYuraeVAF1DHsZlSu5",
      "authorship_tag": "ABX9TyMzrhL78P4AoT6gT128w3VF",
      "include_colab_link": true
    },
    "kernelspec": {
      "name": "python3",
      "display_name": "Python 3"
    },
    "language_info": {
      "name": "python"
    }
  },
  "cells": [
    {
      "cell_type": "markdown",
      "metadata": {
        "id": "view-in-github",
        "colab_type": "text"
      },
      "source": [
        "<a href=\"https://colab.research.google.com/github/Thiruloksundar/thirurep1/blob/main/CyberLabs_NN_Classification.ipynb\" target=\"_parent\"><img src=\"https://colab.research.google.com/assets/colab-badge.svg\" alt=\"Open In Colab\"/></a>"
      ]
    },
    {
      "cell_type": "code",
      "execution_count": null,
      "metadata": {
        "id": "3hCjKU_7r9y6"
      },
      "outputs": [],
      "source": [
        "# Importing Libraries\n",
        "import numpy as np \n",
        "import pandas as pd \n",
        "from matplotlib import pyplot as plt\n",
        "%matplotlib inline"
      ]
    },
    {
      "cell_type": "code",
      "source": [
        "from google.colab import drive\n",
        "drive.mount('/content/drive')"
      ],
      "metadata": {
        "colab": {
          "base_uri": "https://localhost:8080/"
        },
        "id": "BggQjqsqyE9U",
        "outputId": "ee1a8e28-37bd-4e2f-8e48-5216860558fd"
      },
      "execution_count": null,
      "outputs": [
        {
          "output_type": "stream",
          "name": "stdout",
          "text": [
            "Drive already mounted at /content/drive; to attempt to forcibly remount, call drive.mount(\"/content/drive\", force_remount=True).\n"
          ]
        }
      ]
    },
    {
      "cell_type": "code",
      "source": [
        "# Loading the Data\n",
        "train = pd.read_csv(\"/content/drive/MyDrive/emnist-letters-train.csv\")\n",
        "test = pd.read_csv(\"/content/drive/MyDrive/emnist-letters-test.csv\")"
      ],
      "metadata": {
        "id": "ESsZNcua1uj3"
      },
      "execution_count": null,
      "outputs": []
    },
    {
      "cell_type": "code",
      "source": [
        "y1 = np.array(train.iloc[:,0].values)\n",
        "x1 = np.array(train.iloc[:,1:].values)\n",
        "y2 = np.array(test.iloc[:,0].values)\n",
        "x2 = np.array(test.iloc[:,1:].values)"
      ],
      "metadata": {
        "id": "1AFZDtx910kZ"
      },
      "execution_count": null,
      "outputs": []
    },
    {
      "cell_type": "code",
      "source": [
        "z = x1.reshape(x1.shape[0],28,28)\n",
        "plt.imshow(z[55,:,:],cmap='gray')"
      ],
      "metadata": {
        "colab": {
          "base_uri": "https://localhost:8080/",
          "height": 282
        },
        "id": "uOhA700m169q",
        "outputId": "41e379bf-0776-4014-b309-e83f118492ea"
      },
      "execution_count": null,
      "outputs": [
        {
          "output_type": "execute_result",
          "data": {
            "text/plain": [
              "<matplotlib.image.AxesImage at 0x7fc0144b3410>"
            ]
          },
          "metadata": {},
          "execution_count": 5
        },
        {
          "output_type": "display_data",
          "data": {
            "text/plain": [
              "<Figure size 432x288 with 1 Axes>"
            ],
            "image/png": "[encoded data removed]"
          },
          "metadata": {
            "needs_background": "light"
          }
        }
      ]
    },
    {
      "cell_type": "code",
      "source": [
        "X_train = x1.transpose()/255.0\n",
        "Y_train = y1.reshape(1,y1.shape[0])-1\n",
        "X_test = x2.transpose()/255.0\n",
        "Y_test = y2.reshape(1,y2.shape[0])-1"
      ],
      "metadata": {
        "id": "VcZ3WurR3Jy9"
      },
      "execution_count": null,
      "outputs": []
    },
    {
      "cell_type": "code",
      "source": [
        "class NeuralNetwork:\n",
        "  def init_params():\n",
        "    W1 = np.random.rand(26, 784) - 0.5\n",
        "    b1 = np.random.rand(26, 1) - 0.5\n",
        "    W2 = np.random.rand(26, 26) - 0.5\n",
        "    b2 = np.random.rand(26, 1) - 0.5\n",
        "    return W1, b1, W2, b2\n",
        "\n",
        "  def ReLU(Z):\n",
        "      return np.maximum(Z, 0)\n",
        "\n",
        "  def softmax(Z):\n",
        "      A = np.exp(Z) / sum(np.exp(Z))\n",
        "      return A\n",
        "      \n",
        "  def forward_prop(W1, b1, W2, b2, X):\n",
        "      Z1 = W1.dot(X) + b1\n",
        "      A1 = NeuralNetwork.ReLU(Z1)\n",
        "      Z2 = W2.dot(A1) + b2\n",
        "      A2 = NeuralNetwork.softmax(Z2)\n",
        "      return Z1, A1, Z2, A2\n",
        "\n",
        "  def ReLU_deriv(Z):\n",
        "      return Z > 0\n",
        "\n",
        "  def one_hot(Y):\n",
        "      one_hot_Y = np.zeros((Y.size, Y.max() + 1))\n",
        "      one_hot_Y[np.arange(Y.size), Y] = 1\n",
        "      one_hot_Y = one_hot_Y.T\n",
        "      return one_hot_Y\n",
        "\n",
        "  def backward_prop(Z1, A1, Z2, A2, W1, W2, X, Y):\n",
        "      m = X_train.shape[1]\n",
        "      one_hot_Y = NeuralNetwork.one_hot(Y)\n",
        "      dZ2 = A2 - one_hot_Y\n",
        "      dW2 = 1 / m * dZ2.dot(A1.T)\n",
        "      db2 = 1 / m * np.sum(dZ2)\n",
        "      dZ1 = W2.T.dot(dZ2) * NeuralNetwork.ReLU_deriv(Z1)\n",
        "      dW1 = 1 / m * dZ1.dot(X.T)\n",
        "      db1 = 1 / m * np.sum(dZ1)\n",
        "      return dW1, db1, dW2, db2\n",
        "\n",
        "  def update_params(W1, b1, W2, b2, dW1, db1, dW2, db2, alpha):\n",
        "      W1 = W1 - alpha * dW1\n",
        "      b1 = b1 - alpha * db1    \n",
        "      W2 = W2 - alpha * dW2  \n",
        "      b2 = b2 - alpha * db2    \n",
        "      return W1, b1, W2, b2\n",
        "  def get_predictions(A2):\n",
        "      return np.argmax(A2, 0)\n",
        "\n",
        "  def get_accuracy(predictions, Y):\n",
        "      print(predictions, Y)\n",
        "      return np.sum(predictions == Y) / Y.size\n",
        "\n",
        "  def gradient_descent(X, Y, alpha, iterations):\n",
        "      W1, b1, W2, b2 = NeuralNetwork.init_params()\n",
        "      for i in range(iterations+1):\n",
        "          Z1, A1, Z2, A2 = NeuralNetwork.forward_prop(W1, b1, W2, b2, X)\n",
        "          dW1, db1, dW2, db2 = NeuralNetwork.backward_prop(Z1, A1, Z2, A2, W1, W2, X, Y)\n",
        "          W1, b1, W2, b2 = NeuralNetwork.update_params(W1, b1, W2, b2, dW1, db1, dW2, db2, alpha)\n",
        "          if i % 100 == 0:\n",
        "              print(\"Iteration: \", i)\n",
        "              predictions = NeuralNetwork.get_predictions(A2)\n",
        "              print(NeuralNetwork.get_accuracy(predictions, Y))\n",
        "      return W1, b1, W2, b2\n",
        "  \n",
        "  def test_net(W1,b1,W2,b2,X,y):\n",
        "    Z1, A1, Z2, A2 = NeuralNetwork.forward_prop(W1, b1, W2, b2, X)\n",
        "    predictions = NeuralNetwork.get_predictions(A2)\n",
        "    print(NeuralNetwork.get_accuracy(predictions, y)) \n"
      ],
      "metadata": {
        "id": "v16Tc8LG1-IZ"
      },
      "execution_count": null,
      "outputs": []
    },
    {
      "cell_type": "code",
      "source": [
        "W1, b1, W2, b2 = NeuralNetwork.gradient_descent(X_train, Y_train, 1.0, 1000)"
      ],
      "metadata": {
        "colab": {
          "base_uri": "https://localhost:8080/"
        },
        "id": "n5YuHxjh3Dro",
        "outputId": "2676b0dc-48f0-4131-aa29-e17dd0c041be"
      },
      "execution_count": null,
      "outputs": [
        {
          "output_type": "stream",
          "name": "stdout",
          "text": [
            "Iteration:  0\n",
            "[14  5  5 ...  5 24  5] [[ 6 15 14 ...  0 22 11]]\n",
            "0.05444881136048829\n",
            "Iteration:  100\n",
            "[ 6 15  2 ...  0 22  8] [[ 6 15 14 ...  0 22 11]]\n",
            "0.520152253966824\n",
            "Iteration:  200\n",
            "[14 15 14 ...  0 22  8] [[ 6 15 14 ...  0 22 11]]\n",
            "0.6291962747328236\n",
            "Iteration:  300\n",
            "[ 6 15 14 ...  0 22  8] [[ 6 15 14 ...  0 22 11]]\n",
            "0.6657394790481875\n",
            "Iteration:  400\n",
            "[ 6 15 14 ...  0 22  8] [[ 6 15 14 ...  0 22 11]]\n",
            "0.6918658993907589\n",
            "Iteration:  500\n",
            "[ 6 15 14 ...  0 22  8] [[ 6 15 14 ...  0 22 11]]\n",
            "0.6938028581402944\n",
            "Iteration:  600\n",
            "[ 6 15 14 ...  0 22 11] [[ 6 15 14 ...  0 22 11]]\n",
            "0.7304023693960517\n",
            "Iteration:  700\n",
            "[ 6 15 14 ...  0 22 11] [[ 6 15 14 ...  0 22 11]]\n",
            "0.7226432730098312\n",
            "Iteration:  800\n",
            "[ 6 15 14 ...  0 22 11] [[ 6 15 14 ...  0 22 11]]\n",
            "0.7416187119224316\n",
            "Iteration:  900\n",
            "[ 6 15 14 ...  0 22  8] [[ 6 15 14 ...  0 22 11]]\n",
            "0.7612810955078323\n",
            "Iteration:  1000\n",
            "[ 6 15 14 ...  0 22 11] [[ 6 15 14 ...  0 22 11]]\n",
            "0.7627563373461412\n"
          ]
        }
      ]
    },
    {
      "cell_type": "code",
      "source": [
        "NeuralNetwork.test_net(W1, b1, W2, b2, X_test, Y_test)"
      ],
      "metadata": {
        "id": "WyZuTiP031RC",
        "colab": {
          "base_uri": "https://localhost:8080/"
        },
        "outputId": "815ff630-4e0f-4808-e294-f9a1cdad1be5"
      },
      "execution_count": null,
      "outputs": [
        {
          "output_type": "stream",
          "name": "stdout",
          "text": [
            "[ 7  0 16 ... 18 18 25] [[ 0  0  0 ... 18 18 18]]\n",
            "0.7377525508480303\n"
          ]
        }
      ]
    }
  ]
}