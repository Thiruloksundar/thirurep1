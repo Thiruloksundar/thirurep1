{
  "nbformat": 4,
  "nbformat_minor": 0,
  "metadata": {
    "colab": {
      "name": "CyberLabs_SVM.ipynb",
      "provenance": [],
      "authorship_tag": "ABX9TyMvhSLD1RsuZkZd0aKAErQG"
    },
    "kernelspec": {
      "name": "python3",
      "display_name": "Python 3"
    },
    "language_info": {
      "name": "python"
    }
  },
  "cells": [
    {
      "cell_type": "code",
      "execution_count": null,
      "metadata": {
        "id": "y77IFv4WSpnM"
      },
      "outputs": [],
      "source": [
        "# Importing Libraries\n",
        "import numpy as np \n",
        "import pandas as pd \n",
        "from matplotlib import pyplot as plt\n",
        "%matplotlib inline"
      ]
    },
    {
      "cell_type": "code",
      "source": [
        "from google.colab import drive\n",
        "drive.mount('/content/drive')"
      ],
      "metadata": {
        "colab": {
          "base_uri": "https://localhost:8080/"
        },
        "id": "v-42U3j0Sta9",
        "outputId": "05155fe4-0131-469b-ddb1-33c9327b7237"
      },
      "execution_count": null,
      "outputs": [
        {
          "output_type": "stream",
          "name": "stdout",
          "text": [
            "Drive already mounted at /content/drive; to attempt to forcibly remount, call drive.mount(\"/content/drive\", force_remount=True).\n"
          ]
        }
      ]
    },
    {
      "cell_type": "code",
      "source": [
        "# Loading the Data\n",
        "train = pd.read_csv(\"/content/drive/MyDrive/emnist-letters-train.csv\")\n",
        "test = pd.read_csv(\"/content/drive/MyDrive/emnist-letters-test.csv\")"
      ],
      "metadata": {
        "id": "5GH3vQ4OSvbb"
      },
      "execution_count": null,
      "outputs": []
    },
    {
      "cell_type": "code",
      "source": [
        "y1 = np.array(train.iloc[:,0].values)\n",
        "x1 = np.array(train.iloc[:,1:].values)\n",
        "y2 = np.array(test.iloc[:,0].values)\n",
        "x2 = np.array(test.iloc[:,1:].values)"
      ],
      "metadata": {
        "id": "tmL4SFLDS2nL"
      },
      "execution_count": null,
      "outputs": []
    },
    {
      "cell_type": "code",
      "source": [
        "y1 = y1.reshape(-1,1)"
      ],
      "metadata": {
        "id": "-cJwHgYjS7cX"
      },
      "execution_count": null,
      "outputs": []
    },
    {
      "cell_type": "code",
      "source": [
        "y1.shape"
      ],
      "metadata": {
        "colab": {
          "base_uri": "https://localhost:8080/"
        },
        "id": "rN9g6UXyTAAH",
        "outputId": "8cabdb1a-71d9-4616-c9f8-e0c0acfe89ab"
      },
      "execution_count": null,
      "outputs": [
        {
          "output_type": "execute_result",
          "data": {
            "text/plain": [
              "(88799, 1)"
            ]
          },
          "metadata": {},
          "execution_count": 6
        }
      ]
    },
    {
      "cell_type": "code",
      "source": [
        "y2 = y2.reshape(-1,1)"
      ],
      "metadata": {
        "id": "45YDZhBDTKsv"
      },
      "execution_count": null,
      "outputs": []
    },
    {
      "cell_type": "code",
      "source": [
        "class SVM:\n",
        "  def paramsize(X):    # returns n & m\n",
        "    print(X.shape)\n",
        "    m=X.shape[0]\n",
        "    n=X.shape[1]\n",
        "    print(\"No of Training Examples :\",m,\"\\nNo of Features :\",n)\n",
        "    return n,m\n",
        "\n",
        "  def initParam(n):\n",
        "    return np.zeros((n,1))\n",
        "\n",
        "  def compute(X,weights,lambd):    # Weights :(n,1) # X :(m,n)\n",
        "    return np.dot(X,weights) + np.sum(lambd*(weights**2))  # Returns Y-Hat or Predicted value in array of size : (m,1)\n",
        "\n",
        "  def compute_cost(Y,pred):  # Y:(m,1) pred(m,1)\n",
        "    value=Y*pred\n",
        "    if value >1:\n",
        "        cost=0\n",
        "    else :\n",
        "        cost=1-value\n",
        "    return cost\n",
        "\n",
        "  def svm(X,Y,epochs=100,lr=1):    # X:(m,n) Y:(m,1)\n",
        "    n,m=SVM.paramsize(X)\n",
        "    w=SVM.initParam(n)       # w:(n,1)\n",
        "    for iter in range(1,epochs):\n",
        "        for i,x in enumerate(X):\n",
        "            x_train=x.reshape(1,-1)    #(1,n)\n",
        "            pred=SVM.compute(x_train,w,1/iter)  #(1,1)\n",
        "            cost=SVM.compute_cost(Y[i].reshape(1,1),pred)\n",
        "            # if(iter%100==0):\n",
        "            #     print(\"\\nCost at \",iter,\" iteration of \",i,\"Training Example : \",cost)\n",
        "                \n",
        "            if cost==0:\n",
        "                grad=np.zeros(w.shape)\n",
        "            else:\n",
        "                grad=(-Y[i].reshape(1,1)*x_train).T\n",
        "                \n",
        "            grad=grad+2/iter*w\n",
        "            w=w-lr*grad\n",
        "\n",
        "        if(iter%100==0):\n",
        "            print(\"\\nCost at \",iter,\" iteration of \",i,\"Training Example : \",cost)\n",
        "    return w\n",
        "  \n",
        "  def predict(x,Y,w,lambd = 0.01):\n",
        "    x_train=x.reshape(-1,1)  \n",
        "    pred=SVM.compute(x_train,w.T,lambd)  #(1,1)\n",
        "    cost=SVM.compute_cost(Y.reshape(1,1),pred)\n",
        "    return cost\n",
        "\n"
      ],
      "metadata": {
        "id": "3xGRo5lRTOay"
      },
      "execution_count": null,
      "outputs": []
    },
    {
      "cell_type": "code",
      "source": [
        "x1 = x1/255.0\n",
        "x2 = x2/255.0"
      ],
      "metadata": {
        "id": "wWtRHwsbTqib"
      },
      "execution_count": null,
      "outputs": []
    },
    {
      "cell_type": "code",
      "source": [
        "w = SVM.svm(x1,y1)"
      ],
      "metadata": {
        "colab": {
          "base_uri": "https://localhost:8080/"
        },
        "id": "zmxq0sm9T3XH",
        "outputId": "e1e99509-0534-4d30-cb0d-395dc947ea88"
      },
      "execution_count": null,
      "outputs": [
        {
          "output_type": "stream",
          "name": "stdout",
          "text": [
            "(88799, 784)\n",
            "No of Training Examples : 88799 \n",
            "No of Features : 784\n"
          ]
        }
      ]
    },
    {
      "cell_type": "code",
      "source": [
        "SVM.predict(x2,y2,w)"
      ],
      "metadata": {
        "id": "fx-Zc0JLT6ty"
      },
      "execution_count": null,
      "outputs": []
    },
    {
      "cell_type": "code",
      "source": [
        ""
      ],
      "metadata": {
        "id": "1wvUxtK3Y1G7"
      },
      "execution_count": null,
      "outputs": []
    }
  ]
}