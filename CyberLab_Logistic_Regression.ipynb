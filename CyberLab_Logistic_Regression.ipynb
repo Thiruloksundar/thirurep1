{
  "nbformat": 4,
  "nbformat_minor": 0,
  "metadata": {
    "colab": {
      "name": "CyberLab_Logistic_Regression.ipynb",
      "provenance": [],
      "mount_file_id": "1eNWmo4nRkLf-g-E90Awmm-2kAx5TQPYQ",
      "authorship_tag": "ABX9TyNcdlsHqh2VZP69vFbfRlaO"
    },
    "kernelspec": {
      "name": "python3",
      "display_name": "Python 3"
    },
    "language_info": {
      "name": "python"
    }
  },
  "cells": [
    {
      "cell_type": "code",
      "execution_count": 1,
      "metadata": {
        "id": "8F0sruPdarqb"
      },
      "outputs": [],
      "source": [
        "# Importing Libraries\n",
        "import numpy as np \n",
        "import pandas as pd \n",
        "from matplotlib import pyplot as plt\n",
        "%matplotlib inline"
      ]
    },
    {
      "cell_type": "code",
      "source": [
        "# Loading the Data\n",
        "train = pd.read_csv(\"/content/drive/MyDrive/emnist-letters-train.csv\")\n",
        "test = pd.read_csv(\"/content/drive/MyDrive/emnist-letters-test.csv\")"
      ],
      "metadata": {
        "id": "DlbFaQXMa0yn"
      },
      "execution_count": 2,
      "outputs": []
    },
    {
      "cell_type": "code",
      "source": [
        "x_train = train[train.columns[1:]]"
      ],
      "metadata": {
        "id": "9D8vn59nbHrr"
      },
      "execution_count": 3,
      "outputs": []
    },
    {
      "cell_type": "code",
      "source": [
        "x_train = x_train/256.0\n",
        "x_train = x_train.values\n",
        "x_train = x_train.T"
      ],
      "metadata": {
        "id": "ToJs5lKdbxOb"
      },
      "execution_count": 4,
      "outputs": []
    },
    {
      "cell_type": "code",
      "source": [
        "class LogReg:\n",
        "  def sigmoid(z):\n",
        "    return (1/(1+np.exp(-z)))\n",
        "\n",
        "  def model(x, y, learning_rate, iterations ):\n",
        "    m = x_train.shape[1]\n",
        "    n = x_train.shape[0]\n",
        "    w= np.zeros((n, 1))\n",
        "    b = 0\n",
        "    cost_list = []\n",
        "    for i in range(iterations):\n",
        "        z = np.dot(w.T , x) + b\n",
        "        A = LogReg.sigmoid(z)\n",
        "        \n",
        "        cost = -(1/m)*np.sum(y*np.log(A+(1e-7)) + (1- y)*np.log(1-A+ (1e-7)))\n",
        "        dw = (1/m)*np.dot((A-y) , x.T)\n",
        "        db = (1/m)*np.sum(A-y)\n",
        "        w = w- learning_rate*dw.T\n",
        "        b = b- learning_rate*db\n",
        "        cost_list.append(cost)\n",
        "        if(i%(iterations/10) == 0):\n",
        "            print(\"cost after \", i , \"iterations is :\", cost)\n",
        "    return w, b , cost_list\n",
        "  \n",
        "  def train_and_plot(x_train,iterations,learning_rate,train,k):   # k is no.of alphabets we want to train for\n",
        "    h = []\n",
        "    b = []\n",
        "    cost= []\n",
        "    cost_all = []\n",
        "    alphabets = [\"A\", \"B\", \"C\", \"D\", \"E\", \"F\", 'G', 'H', 'I', 'J', 'K', \"L\", \"M\", \"N\", \"O\", \"P\", \"Q\", \"R\",\n",
        "                 \"S\", \"T\", \"U\", \"V\", \"W\", \"X\", \"Y\", \"Z\"] \n",
        "    for j in range(1, k):\n",
        "        x = train[\"23\"].copy()\n",
        "        for i in range(0, x.shape[0]):\n",
        "          if x.iloc[i] == j:\n",
        "            x.iloc[i] = 1\n",
        "          else:\n",
        "            x.iloc[i] = 0\n",
        "        y_train = x.values.reshape(1, x_train.shape[1]) \n",
        "        print(\"Cost update for \"+ str(alphabets[j-1]))\n",
        "        w, t , cost = LogReg.model(x_train, y_train, learning_rate = learning_rate, iterations = iterations)\n",
        "        h.append(w)\n",
        "        b.append(t)\n",
        "        cost_all.append(cost)\n",
        "        plt.plot(cost)\n",
        "      \n",
        "      \n",
        "        plt.xlabel(\"Iterations\") \n",
        "        plt.ylabel(\"Cost\")\n",
        "        plt.title(\"Cost function for \"+ str(alphabets[j-1]))\n",
        "        plt.show()\n",
        "        return h,b\n",
        "\n",
        "  def accuracy(X, Y, W, B):\n",
        "    alphabets = [\"A\", \"B\", \"C\", \"D\", \"E\", \"F\", 'G', 'H', 'I', 'J', 'K', \"L\", \"M\", \"N\", \"O\", \"P\", \"Q\", \"R\",\n",
        "                 \"S\", \"T\", \"U\", \"V\", \"W\", \"X\", \"Y\", \"Z\"]   \n",
        "    Z = np.dot(W.T, X) + B\n",
        "    A = LogReg.sigmoid(Z)\n",
        "    A = A > 0.5\n",
        "    A = np.array(A, dtype = 'int64')\n",
        "    acc = (1 - np.sum(np.absolute(A - Y))/Y.shape[1])*100  \n",
        "    print(\"Accuracy of the model  is : \", round(acc, 2), \"%\")  \n",
        "  \n",
        "  def test(x_test,h,b,test,k):\n",
        "    for j in range(1, k):\n",
        "      x = test[\"1\"].copy()\n",
        "      for i in range(0, x.shape[0]):\n",
        "          if x.iloc[i] == j:\n",
        "            x.iloc[i] = 1\n",
        "          else:\n",
        "            x.iloc[i] = 0\n",
        "      y_test = x.values.reshape(1, x_test.shape[1])\n",
        "      LogReg.accuracy(x_test, y_test, h[j-1], b[j-1])"
      ],
      "metadata": {
        "id": "oyX5bxukb-Ib"
      },
      "execution_count": 5,
      "outputs": []
    },
    {
      "cell_type": "code",
      "source": [
        "h,b = LogReg.train_and_plot(x_train,2001,0.05,train,2)   # i hv set k = 2 to train only for A. we can set k to how many ever alphabets we want to train"
      ],
      "metadata": {
        "colab": {
          "base_uri": "https://localhost:8080/",
          "height": 330
        },
        "id": "Gpe4wI1ec6WS",
        "outputId": "45817fdc-1a3c-4a7f-baaa-69b8b724396e"
      },
      "execution_count": 6,
      "outputs": [
        {
          "output_type": "stream",
          "name": "stdout",
          "text": [
            "Cost update for A\n",
            "cost after  0 iterations is : 0.6931469805599655\n"
          ]
        },
        {
          "output_type": "display_data",
          "data": {
            "text/plain": [
              "<Figure size 432x288 with 1 Axes>"
            ],
            "image/png": "[encoded data removed]"
          },
          "metadata": {
            "needs_background": "light"
          }
        }
      ]
    },
    {
      "cell_type": "code",
      "source": [
        "x_test = test[test.columns[1:]]\n",
        "x_test = x_test/256.0\n",
        "x_test = x_test.values\n",
        "x_test = x_test.T"
      ],
      "metadata": {
        "id": "p1fYapowmnPp"
      },
      "execution_count": 7,
      "outputs": []
    },
    {
      "cell_type": "code",
      "source": [
        "LogReg.test(x_test,h,b,test,2)"
      ],
      "metadata": {
        "colab": {
          "base_uri": "https://localhost:8080/"
        },
        "id": "1th9bb6Bc6YR",
        "outputId": "3ec171af-7122-4f72-8828-85b9b6e13c91"
      },
      "execution_count": 9,
      "outputs": [
        {
          "output_type": "stream",
          "name": "stdout",
          "text": [
            "Accuracy of the model for A is :  94.96 %\n"
          ]
        }
      ]
    },
    {
      "cell_type": "code",
      "source": [
        ""
      ],
      "metadata": {
        "id": "fZhGYVs4c6bv"
      },
      "execution_count": 6,
      "outputs": []
    }
  ]
}
