{
  "nbformat": 4,
  "nbformat_minor": 0,
  "metadata": {
    "colab": {
      "name": "CyberLabs_PolyReg.ipynb",
      "provenance": [],
      "authorship_tag": "ABX9TyM1KuOAvIvyHsb1k1JgJyCr"
    },
    "kernelspec": {
      "name": "python3",
      "display_name": "Python 3"
    },
    "language_info": {
      "name": "python"
    }
  },
  "cells": [
    {
      "cell_type": "code",
      "execution_count": null,
      "metadata": {
        "id": "ps2hfgBGoZI0"
      },
      "outputs": [],
      "source": [
        "import matplotlib.pyplot as plt\n",
        "%matplotlib inline\n",
        "import numpy as np\n",
        "import pandas as pd"
      ]
    },
    {
      "cell_type": "code",
      "source": [
        "test = pd.read_csv(\"Polynomial_test.csv\")\n",
        "train = pd.read_csv(\"Polynomial_train.csv\")\n",
        "\n",
        "train = (train - np.min(train)) / (np.max(train) - np.min(train)) \n",
        "test = (test - np.min(test)) / (np.max(test) - np.min(test))\n",
        "test.head()"
      ],
      "metadata": {
        "colab": {
          "base_uri": "https://localhost:8080/",
          "height": 206
        },
        "id": "l8tvIcTVop6s",
        "outputId": "18690207-52f8-4584-e582-6c7c6232642f"
      },
      "execution_count": null,
      "outputs": [
        {
          "output_type": "execute_result",
          "data": {
            "text/plain": [
              "   Unnamed: 0         X         Y         Z     label\n",
              "0      0.0000  0.966123  0.520763  0.799372  0.348891\n",
              "1      0.0001  0.640607  0.807332  0.821102  0.361912\n",
              "2      0.0002  0.366511  0.888973  0.153398  0.416444\n",
              "3      0.0003  0.150386  0.039686  0.542708  0.146510\n",
              "4      0.0004  0.578721  0.389405  0.801596  0.426142"
            ],
            "text/html": [
              "\n",
              "  <div id=\"df-b60dc4e3-d50f-4834-81fd-277d1ccd0d0f\">\n",
              "    <div class=\"colab-df-container\">\n",
              "      <div>\n",
              "<style scoped>\n",
              "    .dataframe tbody tr th:only-of-type {\n",
              "        vertical-align: middle;\n",
              "    }\n",
              "\n",
              "    .dataframe tbody tr th {\n",
              "        vertical-align: top;\n",
              "    }\n",
              "\n",
              "    .dataframe thead th {\n",
              "        text-align: right;\n",
              "    }\n",
              "</style>\n",
              "<table border=\"1\" class=\"dataframe\">\n",
              "  <thead>\n",
              "    <tr style=\"text-align: right;\">\n",
              "      <th></th>\n",
              "      <th>Unnamed: 0</th>\n",
              "      <th>X</th>\n",
              "      <th>Y</th>\n",
              "      <th>Z</th>\n",
              "      <th>label</th>\n",
              "    </tr>\n",
              "  </thead>\n",
              "  <tbody>\n",
              "    <tr>\n",
              "      <th>0</th>\n",
              "      <td>0.0000</td>\n",
              "      <td>0.966123</td>\n",
              "      <td>0.520763</td>\n",
              "      <td>0.799372</td>\n",
              "      <td>0.348891</td>\n",
              "    </tr>\n",
              "    <tr>\n",
              "      <th>1</th>\n",
              "      <td>0.0001</td>\n",
              "      <td>0.640607</td>\n",
              "      <td>0.807332</td>\n",
              "      <td>0.821102</td>\n",
              "      <td>0.361912</td>\n",
              "    </tr>\n",
              "    <tr>\n",
              "      <th>2</th>\n",
              "      <td>0.0002</td>\n",
              "      <td>0.366511</td>\n",
              "      <td>0.888973</td>\n",
              "      <td>0.153398</td>\n",
              "      <td>0.416444</td>\n",
              "    </tr>\n",
              "    <tr>\n",
              "      <th>3</th>\n",
              "      <td>0.0003</td>\n",
              "      <td>0.150386</td>\n",
              "      <td>0.039686</td>\n",
              "      <td>0.542708</td>\n",
              "      <td>0.146510</td>\n",
              "    </tr>\n",
              "    <tr>\n",
              "      <th>4</th>\n",
              "      <td>0.0004</td>\n",
              "      <td>0.578721</td>\n",
              "      <td>0.389405</td>\n",
              "      <td>0.801596</td>\n",
              "      <td>0.426142</td>\n",
              "    </tr>\n",
              "  </tbody>\n",
              "</table>\n",
              "</div>\n",
              "      <button class=\"colab-df-convert\" onclick=\"convertToInteractive('df-b60dc4e3-d50f-4834-81fd-277d1ccd0d0f')\"\n",
              "              title=\"Convert this dataframe to an interactive table.\"\n",
              "              style=\"display:none;\">\n",
              "        \n",
              "  <svg xmlns=\"http://www.w3.org/2000/svg\" height=\"24px\"viewBox=\"0 0 24 24\"\n",
              "       width=\"24px\">\n",
              "    <path d=\"M0 0h24v24H0V0z\" fill=\"none\"/>\n",
              "    <path d=\"M18.56 5.44l.94 2.06.94-2.06 2.06-.94-2.06-.94-.94-2.06-.94 2.06-2.06.94zm-11 1L8.5 8.5l.94-2.06 2.06-.94-2.06-.94L8.5 2.5l-.94 2.06-2.06.94zm10 10l.94 2.06.94-2.06 2.06-.94-2.06-.94-.94-2.06-.94 2.06-2.06.94z\"/><path d=\"M17.41 7.96l-1.37-1.37c-.4-.4-.92-.59-1.43-.59-.52 0-1.04.2-1.43.59L10.3 9.45l-7.72 7.72c-.78.78-.78 2.05 0 2.83L4 21.41c.39.39.9.59 1.41.59.51 0 1.02-.2 1.41-.59l7.78-7.78 2.81-2.81c.8-.78.8-2.07 0-2.86zM5.41 20L4 18.59l7.72-7.72 1.47 1.35L5.41 20z\"/>\n",
              "  </svg>\n",
              "      </button>\n",
              "      \n",
              "  <style>\n",
              "    .colab-df-container {\n",
              "      display:flex;\n",
              "      flex-wrap:wrap;\n",
              "      gap: 12px;\n",
              "    }\n",
              "\n",
              "    .colab-df-convert {\n",
              "      background-color: #E8F0FE;\n",
              "      border: none;\n",
              "      border-radius: 50%;\n",
              "      cursor: pointer;\n",
              "      display: none;\n",
              "      fill: #1967D2;\n",
              "      height: 32px;\n",
              "      padding: 0 0 0 0;\n",
              "      width: 32px;\n",
              "    }\n",
              "\n",
              "    .colab-df-convert:hover {\n",
              "      background-color: #E2EBFA;\n",
              "      box-shadow: 0px 1px 2px rgba(60, 64, 67, 0.3), 0px 1px 3px 1px rgba(60, 64, 67, 0.15);\n",
              "      fill: #174EA6;\n",
              "    }\n",
              "\n",
              "    [theme=dark] .colab-df-convert {\n",
              "      background-color: #3B4455;\n",
              "      fill: #D2E3FC;\n",
              "    }\n",
              "\n",
              "    [theme=dark] .colab-df-convert:hover {\n",
              "      background-color: #434B5C;\n",
              "      box-shadow: 0px 1px 3px 1px rgba(0, 0, 0, 0.15);\n",
              "      filter: drop-shadow(0px 1px 2px rgba(0, 0, 0, 0.3));\n",
              "      fill: #FFFFFF;\n",
              "    }\n",
              "  </style>\n",
              "\n",
              "      <script>\n",
              "        const buttonEl =\n",
              "          document.querySelector('#df-b60dc4e3-d50f-4834-81fd-277d1ccd0d0f button.colab-df-convert');\n",
              "        buttonEl.style.display =\n",
              "          google.colab.kernel.accessAllowed ? 'block' : 'none';\n",
              "\n",
              "        async function convertToInteractive(key) {\n",
              "          const element = document.querySelector('#df-b60dc4e3-d50f-4834-81fd-277d1ccd0d0f');\n",
              "          const dataTable =\n",
              "            await google.colab.kernel.invokeFunction('convertToInteractive',\n",
              "                                                     [key], {});\n",
              "          if (!dataTable) return;\n",
              "\n",
              "          const docLinkHtml = 'Like what you see? Visit the ' +\n",
              "            '<a target=\"_blank\" href=https://colab.research.google.com/notebooks/data_table.ipynb>data table notebook</a>'\n",
              "            + ' to learn more about interactive tables.';\n",
              "          element.innerHTML = '';\n",
              "          dataTable['output_type'] = 'display_data';\n",
              "          await google.colab.output.renderOutput(dataTable, element);\n",
              "          const docLink = document.createElement('div');\n",
              "          docLink.innerHTML = docLinkHtml;\n",
              "          element.appendChild(docLink);\n",
              "        }\n",
              "      </script>\n",
              "    </div>\n",
              "  </div>\n",
              "  "
            ]
          },
          "metadata": {},
          "execution_count": 2
        }
      ]
    },
    {
      "cell_type": "code",
      "source": [
        "train = train.drop([\"Unnamed: 0\"], axis = 1)\n",
        "test = test.drop([\"Unnamed: 0\"], axis = 1)\n",
        "test.head()"
      ],
      "metadata": {
        "colab": {
          "base_uri": "https://localhost:8080/",
          "height": 206
        },
        "id": "XI32nxrBop_J",
        "outputId": "975edf20-6ac8-4eab-faf9-81bd16dd3680"
      },
      "execution_count": null,
      "outputs": [
        {
          "output_type": "execute_result",
          "data": {
            "text/plain": [
              "          X         Y         Z     label\n",
              "0  0.966123  0.520763  0.799372  0.348891\n",
              "1  0.640607  0.807332  0.821102  0.361912\n",
              "2  0.366511  0.888973  0.153398  0.416444\n",
              "3  0.150386  0.039686  0.542708  0.146510\n",
              "4  0.578721  0.389405  0.801596  0.426142"
            ],
            "text/html": [
              "\n",
              "  <div id=\"df-895f4dd1-81b7-4bdf-bce9-a12dad371b60\">\n",
              "    <div class=\"colab-df-container\">\n",
              "      <div>\n",
              "<style scoped>\n",
              "    .dataframe tbody tr th:only-of-type {\n",
              "        vertical-align: middle;\n",
              "    }\n",
              "\n",
              "    .dataframe tbody tr th {\n",
              "        vertical-align: top;\n",
              "    }\n",
              "\n",
              "    .dataframe thead th {\n",
              "        text-align: right;\n",
              "    }\n",
              "</style>\n",
              "<table border=\"1\" class=\"dataframe\">\n",
              "  <thead>\n",
              "    <tr style=\"text-align: right;\">\n",
              "      <th></th>\n",
              "      <th>X</th>\n",
              "      <th>Y</th>\n",
              "      <th>Z</th>\n",
              "      <th>label</th>\n",
              "    </tr>\n",
              "  </thead>\n",
              "  <tbody>\n",
              "    <tr>\n",
              "      <th>0</th>\n",
              "      <td>0.966123</td>\n",
              "      <td>0.520763</td>\n",
              "      <td>0.799372</td>\n",
              "      <td>0.348891</td>\n",
              "    </tr>\n",
              "    <tr>\n",
              "      <th>1</th>\n",
              "      <td>0.640607</td>\n",
              "      <td>0.807332</td>\n",
              "      <td>0.821102</td>\n",
              "      <td>0.361912</td>\n",
              "    </tr>\n",
              "    <tr>\n",
              "      <th>2</th>\n",
              "      <td>0.366511</td>\n",
              "      <td>0.888973</td>\n",
              "      <td>0.153398</td>\n",
              "      <td>0.416444</td>\n",
              "    </tr>\n",
              "    <tr>\n",
              "      <th>3</th>\n",
              "      <td>0.150386</td>\n",
              "      <td>0.039686</td>\n",
              "      <td>0.542708</td>\n",
              "      <td>0.146510</td>\n",
              "    </tr>\n",
              "    <tr>\n",
              "      <th>4</th>\n",
              "      <td>0.578721</td>\n",
              "      <td>0.389405</td>\n",
              "      <td>0.801596</td>\n",
              "      <td>0.426142</td>\n",
              "    </tr>\n",
              "  </tbody>\n",
              "</table>\n",
              "</div>\n",
              "      <button class=\"colab-df-convert\" onclick=\"convertToInteractive('df-895f4dd1-81b7-4bdf-bce9-a12dad371b60')\"\n",
              "              title=\"Convert this dataframe to an interactive table.\"\n",
              "              style=\"display:none;\">\n",
              "        \n",
              "  <svg xmlns=\"http://www.w3.org/2000/svg\" height=\"24px\"viewBox=\"0 0 24 24\"\n",
              "       width=\"24px\">\n",
              "    <path d=\"M0 0h24v24H0V0z\" fill=\"none\"/>\n",
              "    <path d=\"M18.56 5.44l.94 2.06.94-2.06 2.06-.94-2.06-.94-.94-2.06-.94 2.06-2.06.94zm-11 1L8.5 8.5l.94-2.06 2.06-.94-2.06-.94L8.5 2.5l-.94 2.06-2.06.94zm10 10l.94 2.06.94-2.06 2.06-.94-2.06-.94-.94-2.06-.94 2.06-2.06.94z\"/><path d=\"M17.41 7.96l-1.37-1.37c-.4-.4-.92-.59-1.43-.59-.52 0-1.04.2-1.43.59L10.3 9.45l-7.72 7.72c-.78.78-.78 2.05 0 2.83L4 21.41c.39.39.9.59 1.41.59.51 0 1.02-.2 1.41-.59l7.78-7.78 2.81-2.81c.8-.78.8-2.07 0-2.86zM5.41 20L4 18.59l7.72-7.72 1.47 1.35L5.41 20z\"/>\n",
              "  </svg>\n",
              "      </button>\n",
              "      \n",
              "  <style>\n",
              "    .colab-df-container {\n",
              "      display:flex;\n",
              "      flex-wrap:wrap;\n",
              "      gap: 12px;\n",
              "    }\n",
              "\n",
              "    .colab-df-convert {\n",
              "      background-color: #E8F0FE;\n",
              "      border: none;\n",
              "      border-radius: 50%;\n",
              "      cursor: pointer;\n",
              "      display: none;\n",
              "      fill: #1967D2;\n",
              "      height: 32px;\n",
              "      padding: 0 0 0 0;\n",
              "      width: 32px;\n",
              "    }\n",
              "\n",
              "    .colab-df-convert:hover {\n",
              "      background-color: #E2EBFA;\n",
              "      box-shadow: 0px 1px 2px rgba(60, 64, 67, 0.3), 0px 1px 3px 1px rgba(60, 64, 67, 0.15);\n",
              "      fill: #174EA6;\n",
              "    }\n",
              "\n",
              "    [theme=dark] .colab-df-convert {\n",
              "      background-color: #3B4455;\n",
              "      fill: #D2E3FC;\n",
              "    }\n",
              "\n",
              "    [theme=dark] .colab-df-convert:hover {\n",
              "      background-color: #434B5C;\n",
              "      box-shadow: 0px 1px 3px 1px rgba(0, 0, 0, 0.15);\n",
              "      filter: drop-shadow(0px 1px 2px rgba(0, 0, 0, 0.3));\n",
              "      fill: #FFFFFF;\n",
              "    }\n",
              "  </style>\n",
              "\n",
              "      <script>\n",
              "        const buttonEl =\n",
              "          document.querySelector('#df-895f4dd1-81b7-4bdf-bce9-a12dad371b60 button.colab-df-convert');\n",
              "        buttonEl.style.display =\n",
              "          google.colab.kernel.accessAllowed ? 'block' : 'none';\n",
              "\n",
              "        async function convertToInteractive(key) {\n",
              "          const element = document.querySelector('#df-895f4dd1-81b7-4bdf-bce9-a12dad371b60');\n",
              "          const dataTable =\n",
              "            await google.colab.kernel.invokeFunction('convertToInteractive',\n",
              "                                                     [key], {});\n",
              "          if (!dataTable) return;\n",
              "\n",
              "          const docLinkHtml = 'Like what you see? Visit the ' +\n",
              "            '<a target=\"_blank\" href=https://colab.research.google.com/notebooks/data_table.ipynb>data table notebook</a>'\n",
              "            + ' to learn more about interactive tables.';\n",
              "          element.innerHTML = '';\n",
              "          dataTable['output_type'] = 'display_data';\n",
              "          await google.colab.output.renderOutput(dataTable, element);\n",
              "          const docLink = document.createElement('div');\n",
              "          docLink.innerHTML = docLinkHtml;\n",
              "          element.appendChild(docLink);\n",
              "        }\n",
              "      </script>\n",
              "    </div>\n",
              "  </div>\n",
              "  "
            ]
          },
          "metadata": {},
          "execution_count": 3
        }
      ]
    },
    {
      "cell_type": "code",
      "source": [
        "#Creating matrices for training dataset\n",
        "X = train.values[:, :-1]\n",
        "Y = train.values[:, -1].reshape(train.values.shape[0], 1)\n",
        "\n",
        "#Creating matrices for testing dataset\n",
        "X_test = test.values[:, :-1]\n",
        "Y_test = test.values[:, -1].reshape(test.values.shape[0], 1)\n",
        "\n",
        "print(X.shape)\n",
        "print(Y.shape)\n",
        "print(X_test.shape)\n",
        "print(Y_test.shape)"
      ],
      "metadata": {
        "colab": {
          "base_uri": "https://localhost:8080/"
        },
        "id": "3qp5E2tpoqEf",
        "outputId": "578c3c99-4a77-4b7c-baea-458b89e8b879"
      },
      "execution_count": null,
      "outputs": [
        {
          "output_type": "stream",
          "name": "stdout",
          "text": [
            "(50000, 3)\n",
            "(50000, 1)\n",
            "(10000, 3)\n",
            "(10000, 1)\n"
          ]
        }
      ]
    },
    {
      "cell_type": "code",
      "source": [
        "X = np.vstack((np.ones((X.shape[0], )), X.T)).T\n",
        "X_test = np.vstack((np.ones((X_test.shape[0], )), X_test.T)).T\n",
        "print(X)"
      ],
      "metadata": {
        "colab": {
          "base_uri": "https://localhost:8080/"
        },
        "id": "BvK89GtYoy6t",
        "outputId": "20e0c7c7-22e5-44c7-f16d-99f23eebc0be"
      },
      "execution_count": null,
      "outputs": [
        {
          "output_type": "stream",
          "name": "stdout",
          "text": [
            "[[1.         0.2318255  0.00620153 0.2105835 ]\n",
            " [1.         0.18804274 0.28287559 0.06501568]\n",
            " [1.         0.1287159  0.3701538  0.40948095]\n",
            " ...\n",
            " [1.         0.36192257 0.32432986 0.47638034]\n",
            " [1.         0.29530506 0.65766616 0.26104849]\n",
            " [1.         0.23138369 0.8550764  0.3404406 ]]\n"
          ]
        }
      ]
    },
    {
      "cell_type": "code",
      "source": [
        "class PolynomialRegression:\n",
        "  def visualize(X, y):\n",
        "      fig = plt.figure(figsize=(12,12))\n",
        "      plt.plot(X,y,'ro',ms=10,mec='k')\n",
        "\n",
        "  def hypothesis(theta, x):\n",
        "        return np.dot(X, theta) + np.dot(X**2, theta)\n",
        "\n",
        "  def train(X, Y, learning_rate, no_of_iterations):\n",
        "      m_train = Y.size\n",
        "      theta = np.zeros((X.shape[1], 1))\n",
        "      cost_list = []\n",
        "      \n",
        "      for i in range(no_of_iterations):\n",
        "          y_pred = np.dot(X, theta) + np.dot(X**2, theta)\n",
        "          cost = (1/(2*m_train))*np.sum(np.square(y_pred - Y))\n",
        "          \n",
        "          grad = (1/m_train)*np.dot(X.T, y_pred - Y)\n",
        "          theta -=learning_rate*grad\n",
        "          \n",
        "          cost_list.append(cost)\n",
        "          \n",
        "          if(i%(no_of_iterations/10) == 0):\n",
        "              print('Cost per 100 iterations is :', cost)\n",
        "\n",
        "      return theta, cost_list\n",
        "\n",
        "  def predict(X, theta):\n",
        "      return PolynomialRegression.hypothesis(theta, X)\n",
        "  \n",
        "  def costPlot(cost, iters):\n",
        "    plt.plot(np.arange(iters), cost, '-b', LineWidth=2)\n",
        "    plt.xlabel('Number of iterations')\n",
        "    plt.ylabel('Cost J')\n",
        "    plt.show()\n",
        "  \n",
        "  def r2score(y_pred, y):\n",
        "    rss = np.sum((y_pred - y) ** 2)\n",
        "    tss = np.sum((y-y.mean()) ** 2)\n",
        "    r2 = 1 - (rss / tss)\n",
        "    return r2\n",
        "\n",
        "  def rmse(predictions, targets):\n",
        "    return np.sqrt(((predictions - targets) ** 2).mean())"
      ],
      "metadata": {
        "id": "8xCAicPJozCK"
      },
      "execution_count": null,
      "outputs": []
    },
    {
      "cell_type": "code",
      "source": [
        "iteration = 1000\n",
        "lr = 0.05\n",
        "theta, cost_list = PolynomialRegression.train(X, Y, learning_rate =lr ,no_of_iterations = iteration)"
      ],
      "metadata": {
        "colab": {
          "base_uri": "https://localhost:8080/"
        },
        "id": "CcehghnUoqHH",
        "outputId": "3fc1cb79-152f-4fc8-d653-a818a59f9167"
      },
      "execution_count": null,
      "outputs": [
        {
          "output_type": "stream",
          "name": "stdout",
          "text": [
            "Cost per 100 iterations is : 0.10094464481451891\n",
            "Cost per 100 iterations is : 0.00988271501477823\n",
            "Cost per 100 iterations is : 0.009515473146114017\n",
            "Cost per 100 iterations is : 0.009389814591320681\n",
            "Cost per 100 iterations is : 0.009344622016244962\n",
            "Cost per 100 iterations is : 0.00932714850124968\n",
            "Cost per 100 iterations is : 0.009319626242602016\n",
            "Cost per 100 iterations is : 0.009315900827779075\n",
            "Cost per 100 iterations is : 0.009313765104040014\n",
            "Cost per 100 iterations is : 0.009312385296018777\n"
          ]
        }
      ]
    },
    {
      "cell_type": "code",
      "source": [
        "y_pred = np.dot(X_test, theta) + np.dot(X_test**2,theta)\n",
        "\n",
        "rmse = np.sqrt(((y_pred-Y_test)**2).mean())\n",
        "print(rmse)"
      ],
      "metadata": {
        "colab": {
          "base_uri": "https://localhost:8080/"
        },
        "id": "R0zeh8pFo8OQ",
        "outputId": "0d8b6c24-fe7c-41cd-f723-7e2e2d4b2030"
      },
      "execution_count": null,
      "outputs": [
        {
          "output_type": "stream",
          "name": "stdout",
          "text": [
            "0.14087054496348925\n"
          ]
        }
      ]
    },
    {
      "cell_type": "code",
      "source": [
        "PolynomialRegression.costPlot(cost_list,iteration)"
      ],
      "metadata": {
        "colab": {
          "base_uri": "https://localhost:8080/",
          "height": 279
        },
        "id": "ESB1i0f6o8RX",
        "outputId": "6588b973-80e8-405a-b560-dcd3ee26a882"
      },
      "execution_count": null,
      "outputs": [
        {
          "output_type": "display_data",
          "data": {
            "text/plain": [
              "<Figure size 432x288 with 1 Axes>"
            ],
            "image/png": "[encoded data removed]"
          },
          "metadata": {
            "needs_background": "light"
          }
        }
      ]
    },
    {
      "cell_type": "code",
      "source": [
        ""
      ],
      "metadata": {
        "id": "1JlefJYbr7uX"
      },
      "execution_count": null,
      "outputs": []
    }
  ]
}