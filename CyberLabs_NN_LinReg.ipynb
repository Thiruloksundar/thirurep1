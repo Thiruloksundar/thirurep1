{
  "nbformat": 4,
  "nbformat_minor": 0,
  "metadata": {
    "colab": {
      "name": "CyberLabs_NN_LinReg.ipynb",
      "provenance": [],
      "collapsed_sections": [],
      "mount_file_id": "1SFAKGKgMiq7bqnQmzG8iJtz40wPGCKiR",
      "authorship_tag": "ABX9TyN1BKExBGz/HhprmlaF9K3M",
      "include_colab_link": true
    },
    "kernelspec": {
      "name": "python3",
      "display_name": "Python 3"
    },
    "language_info": {
      "name": "python"
    }
  },
  "cells": [
    {
      "cell_type": "markdown",
      "metadata": {
        "id": "view-in-github",
        "colab_type": "text"
      },
      "source": [
        "<a href=\"https://colab.research.google.com/github/Thiruloksundar/thirurep1/blob/main/CyberLabs_NN_LinReg.ipynb\" target=\"_parent\"><img src=\"https://colab.research.google.com/assets/colab-badge.svg\" alt=\"Open In Colab\"/></a>"
      ]
    },
    {
      "cell_type": "code",
      "execution_count": null,
      "metadata": {
        "id": "Ljnvc1-PSPlp"
      },
      "outputs": [],
      "source": [
        "# Importing Libraries\n",
        "import numpy as np \n",
        "import pandas as pd \n",
        "from matplotlib import pyplot as plt\n",
        "%matplotlib inline\n",
        "import warnings\n",
        "warnings.filterwarnings(\"ignore\")"
      ]
    },
    {
      "cell_type": "code",
      "source": [
        "from google.colab import drive\n",
        "drive.mount('/content/drive')"
      ],
      "metadata": {
        "colab": {
          "base_uri": "https://localhost:8080/"
        },
        "id": "VFe5t1ViUPhR",
        "outputId": "0f266447-6d2d-4740-fb2f-726fe66a323c"
      },
      "execution_count": null,
      "outputs": [
        {
          "output_type": "stream",
          "name": "stdout",
          "text": [
            "Drive already mounted at /content/drive; to attempt to forcibly remount, call drive.mount(\"/content/drive\", force_remount=True).\n"
          ]
        }
      ]
    },
    {
      "cell_type": "code",
      "source": [
        "# Loading the Data\n",
        "train_df = pd.read_csv(\"/content/drive/MyDrive/Linear_train.csv\")\n",
        "test_df = pd.read_csv(\"/content/drive/MyDrive/Linear_test.csv\")"
      ],
      "metadata": {
        "id": "nZiZD-rxUS0p"
      },
      "execution_count": null,
      "outputs": []
    },
    {
      "cell_type": "code",
      "source": [
        "train_df = (train_df - train_df.mean())/train_df.std()\n",
        "test_df = (test_df - test_df.mean())/test_df.std()"
      ],
      "metadata": {
        "id": "L6o568dlXDgt"
      },
      "execution_count": null,
      "outputs": []
    },
    {
      "cell_type": "code",
      "source": [
        "y_train = train_df['label']\n",
        "y_test = test_df['label']\n",
        "X_train = np.array(train_df.drop(['Unnamed: 0','label'],axis=1))\n",
        "X_test = np.array(test_df.drop(['Unnamed: 0','label'],axis=1))"
      ],
      "metadata": {
        "id": "Eb0DZRw_XHpn"
      },
      "execution_count": null,
      "outputs": []
    },
    {
      "cell_type": "code",
      "source": [
        "class NN:\n",
        "  def sigmoid(input):    \n",
        "    output = 1 / (1 + np.exp(-input))\n",
        "    return output\n",
        "\n",
        "  def sigmoid_derivative(input):\n",
        "    return NN.sigmoid(input) * (1.0 - NN.sigmoid(input))\n",
        "  \n",
        "  def train(features,label,weights,bias,learning_rate,epochs): \n",
        "    l = []                                        \n",
        "    for epoch in range(epochs):       \n",
        "        dot_prod = np.dot(features, weights) + bias\n",
        "        # using sigmoid\n",
        "        preds = NN.sigmoid(dot_prod)\n",
        "        # Error\n",
        "        errors = preds - label                \n",
        "        deriva_cost_funct = errors\n",
        "        deriva_preds = NN.sigmoid_derivative(preds)\n",
        "        deriva_product = deriva_cost_funct * deriva_preds       \n",
        "        #update the weights\n",
        "        weights = weights -  np.dot(features.T, deriva_product) * learning_rate        \n",
        "        loss = errors.sum()\n",
        "        #print(loss)\n",
        "        l.append(loss)\n",
        "    for i in deriva_product:\n",
        "        bias = bias -  i * learning_rate\n",
        "    print(np.sqrt(((errors) ** 2).mean()))\n",
        "    \n",
        "    return weights,bias,loss\n",
        "\n",
        "  def test(features,label,weights,bias):\n",
        "    dot_prod = np.dot(features, weights) + bias\n",
        "    # using sigmoid\n",
        "    preds = NN.sigmoid(dot_prod)\n",
        "    # Error\n",
        "    errors = preds - label\n",
        "    loss = errors.sum()\n",
        "    #print(loss)\n",
        "    print(np.sqrt(((errors) ** 2).mean()))\n",
        "  \n",
        "  def costPlot(c, iters):\n",
        "        plt.plot(np.arange(iters), c, '-b', LineWidth=2)\n",
        "        plt.xlabel('Number of iterations')\n",
        "        plt.ylabel('Cost')\n",
        "        plt.show() \n"
      ],
      "metadata": {
        "id": "_Kt9Q0xPXKD2"
      },
      "execution_count": null,
      "outputs": []
    },
    {
      "cell_type": "code",
      "source": [
        "label = y_train.values.reshape(y_train.shape[0],1)\n",
        "weights = np.random.rand(20,1)\n",
        "bias = np.random.rand(1)\n",
        "learning_rate = 0.5\n",
        "epochs = 1000"
      ],
      "metadata": {
        "id": "iR5Ni1eRYpNn"
      },
      "execution_count": null,
      "outputs": []
    },
    {
      "cell_type": "code",
      "source": [
        "w,b,l = NN.train(X_train,label,weights,bias,learning_rate,epochs)"
      ],
      "metadata": {
        "colab": {
          "base_uri": "https://localhost:8080/"
        },
        "id": "9Txk7Fc4ZLbt",
        "outputId": "0c0a36df-4861-4bde-a36b-1d911a24d029"
      },
      "execution_count": null,
      "outputs": [
        {
          "output_type": "stream",
          "name": "stdout",
          "text": [
            "0.8332225741940963\n"
          ]
        }
      ]
    },
    {
      "cell_type": "code",
      "source": [
        "lbl = y_test.values.reshape(y_test.shape[0],1)\n",
        "NN.test(X_test,lbl,w,b)"
      ],
      "metadata": {
        "id": "ZM9CRd__Zc2r",
        "colab": {
          "base_uri": "https://localhost:8080/"
        },
        "outputId": "56c66638-dd14-46c4-f2c1-894406844ac4"
      },
      "execution_count": null,
      "outputs": [
        {
          "output_type": "stream",
          "name": "stdout",
          "text": [
            "0.8314582899068588\n"
          ]
        }
      ]
    },
    {
      "cell_type": "code",
      "source": [
        ""
      ],
      "metadata": {
        "id": "xuZWKhT5Kfau"
      },
      "execution_count": null,
      "outputs": []
    }
  ]
}